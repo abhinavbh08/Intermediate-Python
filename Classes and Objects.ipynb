{
 "cells": [
  {
   "cell_type": "markdown",
   "metadata": {},
   "source": [
    "Class is basically a simple logocal grouping of data and functions. Basically a blueprint for creating objects."
   ]
  },
  {
   "cell_type": "code",
   "execution_count": 5,
   "metadata": {},
   "outputs": [],
   "source": [
    "class Customer(object):\n",
    "    \n",
    "    def __init__(self, name, balance=0.0):\n",
    "        self.name = name\n",
    "        self.balance = balance\n",
    "        \n",
    "    def withdraw(self, amount):\n",
    "        if amount>self.balance:\n",
    "            raise RuntimeError(\"Amount greater then the balance in the account.\")\n",
    "        self.balance-=amount\n",
    "        return self.balance\n",
    "    \n",
    "    def deposit(self, amount):\n",
    "        self.balance+=amount\n",
    "        return self.balance\n",
    "    \n",
    "#     Now we will define a static method\n",
    "    @staticmethod\n",
    "    def what_i_do():\n",
    "        return \"I create customers for a bank.\""
   ]
  },
  {
   "cell_type": "code",
   "execution_count": 6,
   "metadata": {},
   "outputs": [],
   "source": [
    "abhinav = Customer(\"Abhinav\", 10000000000000)"
   ]
  },
  {
   "cell_type": "code",
   "execution_count": 7,
   "metadata": {},
   "outputs": [
    {
     "ename": "RuntimeError",
     "evalue": "Amount greater then the balance in the account.",
     "output_type": "error",
     "traceback": [
      "\u001b[1;31m---------------------------------------------------------------------------\u001b[0m",
      "\u001b[1;31mRuntimeError\u001b[0m                              Traceback (most recent call last)",
      "\u001b[1;32m<ipython-input-7-ddfed6d0e954>\u001b[0m in \u001b[0;36m<module>\u001b[1;34m\u001b[0m\n\u001b[1;32m----> 1\u001b[1;33m \u001b[0mabhinav\u001b[0m\u001b[1;33m.\u001b[0m\u001b[0mwithdraw\u001b[0m\u001b[1;33m(\u001b[0m\u001b[1;36m99999999999999999999999\u001b[0m\u001b[1;33m)\u001b[0m\u001b[1;33m\u001b[0m\u001b[0m\n\u001b[0m",
      "\u001b[1;32m<ipython-input-5-358cffa94120>\u001b[0m in \u001b[0;36mwithdraw\u001b[1;34m(self, amount)\u001b[0m\n\u001b[0;32m      7\u001b[0m     \u001b[1;32mdef\u001b[0m \u001b[0mwithdraw\u001b[0m\u001b[1;33m(\u001b[0m\u001b[0mself\u001b[0m\u001b[1;33m,\u001b[0m \u001b[0mamount\u001b[0m\u001b[1;33m)\u001b[0m\u001b[1;33m:\u001b[0m\u001b[1;33m\u001b[0m\u001b[0m\n\u001b[0;32m      8\u001b[0m         \u001b[1;32mif\u001b[0m \u001b[0mamount\u001b[0m\u001b[1;33m>\u001b[0m\u001b[0mself\u001b[0m\u001b[1;33m.\u001b[0m\u001b[0mbalance\u001b[0m\u001b[1;33m:\u001b[0m\u001b[1;33m\u001b[0m\u001b[0m\n\u001b[1;32m----> 9\u001b[1;33m             \u001b[1;32mraise\u001b[0m \u001b[0mRuntimeError\u001b[0m\u001b[1;33m(\u001b[0m\u001b[1;34m\"Amount greater then the balance in the account.\"\u001b[0m\u001b[1;33m)\u001b[0m\u001b[1;33m\u001b[0m\u001b[0m\n\u001b[0m\u001b[0;32m     10\u001b[0m         \u001b[0mself\u001b[0m\u001b[1;33m.\u001b[0m\u001b[0mbalance\u001b[0m\u001b[1;33m-=\u001b[0m\u001b[0mamount\u001b[0m\u001b[1;33m\u001b[0m\u001b[0m\n\u001b[0;32m     11\u001b[0m         \u001b[1;32mreturn\u001b[0m \u001b[0mself\u001b[0m\u001b[1;33m.\u001b[0m\u001b[0mbalance\u001b[0m\u001b[1;33m\u001b[0m\u001b[0m\n",
      "\u001b[1;31mRuntimeError\u001b[0m: Amount greater then the balance in the account."
     ]
    }
   ],
   "source": [
    "abhinav.withdraw(99999999999999999999999)"
   ]
  },
  {
   "cell_type": "markdown",
   "metadata": {},
   "source": [
    "Don't introduce a new field outside the self.init module, else it gives the caller an object which is not fully initialised. "
   ]
  },
  {
   "cell_type": "code",
   "execution_count": 8,
   "metadata": {},
   "outputs": [
    {
     "name": "stdout",
     "output_type": "stream",
     "text": [
      "I create customers for a bank.\n"
     ]
    }
   ],
   "source": [
    "# We can call a static method in this way.\n",
    "print(Customer.what_i_do())"
   ]
  },
  {
   "cell_type": "code",
   "execution_count": 9,
   "metadata": {},
   "outputs": [
    {
     "data": {
      "text/plain": [
       "'I create customers for a bank.'"
      ]
     },
     "execution_count": 9,
     "metadata": {},
     "output_type": "execute_result"
    }
   ],
   "source": [
    "abhinav.what_i_do()"
   ]
  },
  {
   "cell_type": "markdown",
   "metadata": {},
   "source": [
    "Imagine we run a car dealership. We sell all types of vehicles, from motorcycles to trucks. We set ourselves apart from the competition by our prices. Specifically, how we determine the price of a vehicle on our lot: $5,000 x number of wheels a vehicle has. We love buying back our vehicles as well. We offer a flat rate - 10% of the miles driven on the vehicle. For trucks, that rate is $10,000. For cars, $8,000. For motorcycles, $4,000."
   ]
  },
  {
   "cell_type": "markdown",
   "metadata": {},
   "source": [
    "Now, first we will define car and truck classes seperately, and then we will see how we can optimise them"
   ]
  },
  {
   "cell_type": "code",
   "execution_count": 12,
   "metadata": {},
   "outputs": [],
   "source": [
    "class Car(object):\n",
    "    \n",
    "    def __init__(self, wheels, make, miles, model, year, sold_on):\n",
    "        self.wheels = wheels\n",
    "        self.make = make\n",
    "        self.miles = miles\n",
    "        self.model = model\n",
    "        self.year = year\n",
    "        self.sold_on = sold_on\n",
    "        \n",
    "    def sale_price(self):\n",
    "        if self.sold_on is not None:\n",
    "            return 0.0\n",
    "        return 5000 * self.wheels\n",
    "    \n",
    "    def purchase_price(self):\n",
    "        if self.sold_on is None:\n",
    "            return 0.0\n",
    "        return 8000 - (0.1 * self.miles)"
   ]
  },
  {
   "cell_type": "code",
   "execution_count": 14,
   "metadata": {},
   "outputs": [],
   "source": [
    "class Truck(object):\n",
    "    \n",
    "    def __init__(self, wheels, make, miles, model, year, sold_on):\n",
    "        self.wheels = wheels\n",
    "        self.make = make\n",
    "        self.miles = miles\n",
    "        self.model = model\n",
    "        self.year = year\n",
    "        self.sold_on = sold_on\n",
    "        \n",
    "    def sale_price(self):\n",
    "        if self.sold_on is not None:\n",
    "            return 0.0\n",
    "        return 5000 * self.wheels\n",
    "    \n",
    "    def purchase_price(self):\n",
    "        if self.sold_on is None:\n",
    "            return 0.0\n",
    "        return 10000 - (0.1 * self.miles)"
   ]
  },
  {
   "cell_type": "markdown",
   "metadata": {},
   "source": [
    "So above we have defines the truck and car class properly. We can have a proper look at them properly."
   ]
  },
  {
   "cell_type": "markdown",
   "metadata": {},
   "source": [
    "So, now we will remove the repition by removing the unnecesary code and creating a vehicle class which these both classes will inherit from"
   ]
  },
  {
   "cell_type": "code",
   "execution_count": 16,
   "metadata": {},
   "outputs": [],
   "source": [
    "class Vehicle:\n",
    "    \n",
    "    base_sale_price = 0\n",
    "    \n",
    "    def __init__(self, wheels, make, miles, model, year, sold_on):\n",
    "        self.wheels = wheels\n",
    "        self.make = make\n",
    "        self.miles = miles\n",
    "        self.model = model\n",
    "        self.year = year\n",
    "        self.sold_on = sold_on\n",
    "        \n",
    "    def sale_price(self):\n",
    "        if self.sold_on is not None:\n",
    "            return 0.0\n",
    "        return 5000 * self.wheels\n",
    "    \n",
    "    def purchase_price(self):\n",
    "        if self.sold_on is None:\n",
    "            return 0.0\n",
    "        return self.base_sale_price - (0.1 * self.miles)"
   ]
  },
  {
   "cell_type": "markdown",
   "metadata": {},
   "source": [
    "Now, we can define the car and truck in the following way."
   ]
  },
  {
   "cell_type": "code",
   "execution_count": 17,
   "metadata": {},
   "outputs": [],
   "source": [
    "class Car(object):\n",
    "    \n",
    "    def __init__(self, wheels, make, miles, model, year, sold_on):\n",
    "        self.wheels = wheels\n",
    "        self.make = make\n",
    "        self.miles = miles\n",
    "        self.model = model\n",
    "        self.year = year\n",
    "        self.sold_on = sold_on\n",
    "        self.base_sale_price = 8000\n",
    "\n",
    "class Truck(object):\n",
    "    \n",
    "    def __init__(self, wheels, make, miles, model, year, sold_on):\n",
    "        self.wheels = wheels\n",
    "        self.make = make\n",
    "        self.miles = miles\n",
    "        self.model = model\n",
    "        self.year = year\n",
    "        self.sold_on = sold_on\n",
    "        self.base_sale_price = 10000"
   ]
  },
  {
   "cell_type": "markdown",
   "metadata": {},
   "source": [
    "Now also there is scope of more refatcoring, vehicle is an should be an abstract base class. An ABC is one from which we can only inherit, we cannnot create instance of an abstract base class"
   ]
  },
  {
   "cell_type": "markdown",
   "metadata": {},
   "source": [
    " The abc module contains a metaclass called ABCMeta (metaclasses are a bit outside the scope of this article). Setting a class's metaclass to ABCMeta and making one of its methods virtual makes it an ABC. A virtual method is one that the ABC says must exist in child classes, but doesn't necessarily actually implement"
   ]
  },
  {
   "cell_type": "code",
   "execution_count": 18,
   "metadata": {},
   "outputs": [],
   "source": [
    "from abc import ABCMeta, abstractmethod"
   ]
  },
  {
   "cell_type": "code",
   "execution_count": 19,
   "metadata": {},
   "outputs": [],
   "source": [
    "class Vehicle(object):\n",
    "    \n",
    "    \n",
    "    __metaclass__ = ABCMeta\n",
    "    \n",
    "    base_sale_price = 0\n",
    "    \n",
    "    def __init__(self, wheels, make, miles, model, year, sold_on):\n",
    "        self.wheels = wheels\n",
    "        self.make = make\n",
    "        self.miles = miles\n",
    "        self.model = model\n",
    "        self.year = year\n",
    "        self.sold_on = sold_on\n",
    "        \n",
    "    def sale_price(self):\n",
    "        if self.sold_on is not None:\n",
    "            return 0.0\n",
    "        return 5000 * self.wheels\n",
    "    \n",
    "    def purchase_price(self):\n",
    "        if self.sold_on is None:\n",
    "            return 0.0\n",
    "        return self.base_sale_price - (0.1 * self.miles)\n",
    "    \n",
    "    @abstractmethod\n",
    "    def vehicle_type():\n",
    "        pass"
   ]
  },
  {
   "cell_type": "code",
   "execution_count": 20,
   "metadata": {},
   "outputs": [],
   "source": [
    "class Car(Vehicle):\n",
    "\n",
    "    base_sale_price = 8000\n",
    "\n",
    "    def vehicle_type(self):\n",
    "        return 'car'\n",
    "\n",
    "class Truck(Vehicle):\n",
    "\n",
    "    base_sale_price = 10000\n",
    "\n",
    "    def vehicle_type(self):\n",
    "        return 'truck'"
   ]
  },
  {
   "cell_type": "code",
   "execution_count": null,
   "metadata": {},
   "outputs": [],
   "source": []
  }
 ],
 "metadata": {
  "kernelspec": {
   "display_name": "Python 3",
   "language": "python",
   "name": "python3"
  },
  "language_info": {
   "codemirror_mode": {
    "name": "ipython",
    "version": 3
   },
   "file_extension": ".py",
   "mimetype": "text/x-python",
   "name": "python",
   "nbconvert_exporter": "python",
   "pygments_lexer": "ipython3",
   "version": "3.6.0"
  }
 },
 "nbformat": 4,
 "nbformat_minor": 2
}
