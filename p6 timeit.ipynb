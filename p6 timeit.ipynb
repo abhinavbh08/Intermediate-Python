{
 "cells": [
  {
   "cell_type": "code",
   "execution_count": 1,
   "metadata": {},
   "outputs": [],
   "source": [
    "import timeit"
   ]
  },
  {
   "cell_type": "code",
   "execution_count": 2,
   "metadata": {},
   "outputs": [],
   "source": [
    "input_list = range(100)\n",
    "\n",
    "def div_by_five(x):\n",
    "    return x%5==0"
   ]
  },
  {
   "cell_type": "markdown",
   "metadata": {},
   "source": [
    "Time it module basically runs a snippet of code multiple times to give a good estimate time of how much time it took to run a piece of code."
   ]
  },
  {
   "cell_type": "code",
   "execution_count": 3,
   "metadata": {},
   "outputs": [
    {
     "data": {
      "text/plain": [
       "0.6453153363723266"
      ]
     },
     "execution_count": 3,
     "metadata": {},
     "output_type": "execute_result"
    }
   ],
   "source": [
    "timeit.timeit(\"1+3\", number=10000000)"
   ]
  },
  {
   "cell_type": "code",
   "execution_count": 4,
   "metadata": {},
   "outputs": [],
   "source": [
    "xyz = (i for i in input_list if div_by_five(i))"
   ]
  },
  {
   "cell_type": "code",
   "execution_count": 5,
   "metadata": {},
   "outputs": [],
   "source": [
    "xyz = [i for i in input_list if div_by_five(i)]"
   ]
  },
  {
   "cell_type": "code",
   "execution_count": 6,
   "metadata": {},
   "outputs": [
    {
     "data": {
      "text/plain": [
       "0.17270663078098014"
      ]
     },
     "execution_count": 6,
     "metadata": {},
     "output_type": "execute_result"
    }
   ],
   "source": [
    "timeit.timeit('''\n",
    "input_list = range(10000)\n",
    "\n",
    "def div_by_five(x):\n",
    "    return x%5==0\n",
    "    \n",
    "xyz = (i for i in input_list if div_by_five(i))\n",
    "''', number=50000)"
   ]
  },
  {
   "cell_type": "code",
   "execution_count": 7,
   "metadata": {},
   "outputs": [
    {
     "data": {
      "text/plain": [
       "2.8968687732479017"
      ]
     },
     "execution_count": 7,
     "metadata": {},
     "output_type": "execute_result"
    }
   ],
   "source": [
    "timeit.timeit('''\n",
    "input_list = range(10000)\n",
    "\n",
    "def div_by_five(x):\n",
    "    return x%5==0\n",
    "    \n",
    "xyz = [i for i in input_list if div_by_five(i)]\n",
    "''', number=500)"
   ]
  },
  {
   "cell_type": "code",
   "execution_count": 10,
   "metadata": {},
   "outputs": [
    {
     "data": {
      "text/plain": [
       "3.108292943274769"
      ]
     },
     "execution_count": 10,
     "metadata": {},
     "output_type": "execute_result"
    }
   ],
   "source": [
    "timeit.timeit('''\n",
    "input_list = range(10000)\n",
    "\n",
    "def div_by_five(x):\n",
    "    return x%5==0\n",
    "    \n",
    "xyz = (i for i in input_list if div_by_five(i))\n",
    "\n",
    "for i in xyz:\n",
    "    i\n",
    "''', number=500)"
   ]
  },
  {
   "cell_type": "code",
   "execution_count": 11,
   "metadata": {},
   "outputs": [
    {
     "data": {
      "text/plain": [
       "3.241807104638127"
      ]
     },
     "execution_count": 11,
     "metadata": {},
     "output_type": "execute_result"
    }
   ],
   "source": [
    "timeit.timeit('''\n",
    "input_list = range(10000)\n",
    "\n",
    "def div_by_five(x):\n",
    "    return x%5==0\n",
    "    \n",
    "xyz = [i for i in input_list if div_by_five(i)]\n",
    "for i in xyz:\n",
    "    i\n",
    "''', number=500)"
   ]
  },
  {
   "cell_type": "code",
   "execution_count": null,
   "metadata": {},
   "outputs": [],
   "source": []
  }
 ],
 "metadata": {
  "kernelspec": {
   "display_name": "Python 3",
   "language": "python",
   "name": "python3"
  },
  "language_info": {
   "codemirror_mode": {
    "name": "ipython",
    "version": 3
   },
   "file_extension": ".py",
   "mimetype": "text/x-python",
   "name": "python",
   "nbconvert_exporter": "python",
   "pygments_lexer": "ipython3",
   "version": "3.6.0"
  }
 },
 "nbformat": 4,
 "nbformat_minor": 2
}
