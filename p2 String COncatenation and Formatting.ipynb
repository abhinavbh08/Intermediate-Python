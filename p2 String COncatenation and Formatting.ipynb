{
 "cells": [
  {
   "cell_type": "markdown",
   "metadata": {},
   "source": [
    "# This is from the String Concatenation and formatting tutorial by SentdDex"
   ]
  },
  {
   "cell_type": "code",
   "execution_count": 1,
   "metadata": {},
   "outputs": [
    {
     "name": "stdout",
     "output_type": "stream",
     "text": [
      "Hello There, Abhinav\n",
      "Hello There, Bhatt\n",
      "Hello There, Shyan\n",
      "Hello There, Sentdex\n"
     ]
    }
   ],
   "source": [
    "names = [\"Abhinav\", \"Bhatt\", \"Shyan\", \"Sentdex\"]\n",
    "\n",
    "for name in names:\n",
    "    print(\"Hello There, \" + name)"
   ]
  },
  {
   "cell_type": "code",
   "execution_count": 2,
   "metadata": {},
   "outputs": [
    {
     "name": "stdout",
     "output_type": "stream",
     "text": [
      "Hello There, Abhinav\n",
      "Hello There, Bhatt\n",
      "Hello There, Shyan\n",
      "Hello There, Sentdex\n"
     ]
    }
   ],
   "source": [
    "# Another way to write this is, \n",
    "\n",
    "for name in names:\n",
    "    print(\" \".join([\"Hello There,\", name]))"
   ]
  },
  {
   "cell_type": "markdown",
   "metadata": {},
   "source": [
    "There is no much performance difference between the two, we can use either one of the above."
   ]
  },
  {
   "cell_type": "code",
   "execution_count": 7,
   "metadata": {},
   "outputs": [
    {
     "name": "stdout",
     "output_type": "stream",
     "text": [
      "The bird was eaten by the cat which was chased off by the dog.\n",
      "The bird was eaten by the cat which was chased off by the dog.\n",
      "The bird was eaten by the cat which was chased off by the dog.\n"
     ]
    }
   ],
   "source": [
    "# We can also use this way of printing our stuff\n",
    "\n",
    "birdie = \"bird\"\n",
    "cat = \"cat\"\n",
    "dog = \"dog\"\n",
    "\n",
    "animals = (birdie, cat, dog)\n",
    "\n",
    "print(\"The {} was eaten by the {} which was chased off by the {}.\".format(birdie, cat, dog))\n",
    "print(\"The {} was eaten by the {} which was chased off by the {}.\".format(*animals))\n",
    "print(f\"The {birdie} was eaten by the {cat} which was chased off by the {dog}.\")"
   ]
  },
  {
   "cell_type": "code",
   "execution_count": null,
   "metadata": {},
   "outputs": [],
   "source": []
  }
 ],
 "metadata": {
  "kernelspec": {
   "display_name": "Python 3",
   "language": "python",
   "name": "python3"
  },
  "language_info": {
   "codemirror_mode": {
    "name": "ipython",
    "version": 3
   },
   "file_extension": ".py",
   "mimetype": "text/x-python",
   "name": "python",
   "nbconvert_exporter": "python",
   "pygments_lexer": "ipython3",
   "version": "3.6.0"
  }
 },
 "nbformat": 4,
 "nbformat_minor": 2
}
